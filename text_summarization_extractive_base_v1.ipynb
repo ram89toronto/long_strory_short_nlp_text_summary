{
 "cells": [
  {
   "cell_type": "markdown",
   "id": "a0a7d038",
   "metadata": {},
   "source": [
    "## Text Summarization using Extractive process"
   ]
  },
  {
   "cell_type": "code",
   "execution_count": 13,
   "id": "07df0bed",
   "metadata": {},
   "outputs": [],
   "source": [
    "# Import libraries\n",
    "import gensim\n",
    "from transformers import pipeline\n",
    "from gtts import gTTS\n",
    "import os"
   ]
  },
  {
   "cell_type": "code",
   "execution_count": 2,
   "id": "7e684f91",
   "metadata": {},
   "outputs": [
    {
     "name": "stderr",
     "output_type": "stream",
     "text": [
      "No model was supplied, defaulted to sshleifer/distilbart-cnn-12-6 and revision a4f8f3e (https://huggingface.co/sshleifer/distilbart-cnn-12-6).\n",
      "Using a pipeline without specifying a model name and revision in production is not recommended.\n"
     ]
    },
    {
     "data": {
      "application/vnd.jupyter.widget-view+json": {
       "model_id": "99eb6384842c46228c76d5008db6d6aa",
       "version_major": 2,
       "version_minor": 0
      },
      "text/plain": [
       "Downloading:   0%|          | 0.00/1.80k [00:00<?, ?B/s]"
      ]
     },
     "metadata": {},
     "output_type": "display_data"
    },
    {
     "data": {
      "application/vnd.jupyter.widget-view+json": {
       "model_id": "f37a8ee90abb4a5c858d439d401adbe2",
       "version_major": 2,
       "version_minor": 0
      },
      "text/plain": [
       "Downloading:   0%|          | 0.00/1.22G [00:00<?, ?B/s]"
      ]
     },
     "metadata": {},
     "output_type": "display_data"
    },
    {
     "data": {
      "application/vnd.jupyter.widget-view+json": {
       "model_id": "92068603576749baacc264c85c00a348",
       "version_major": 2,
       "version_minor": 0
      },
      "text/plain": [
       "Downloading:   0%|          | 0.00/26.0 [00:00<?, ?B/s]"
      ]
     },
     "metadata": {},
     "output_type": "display_data"
    },
    {
     "data": {
      "application/vnd.jupyter.widget-view+json": {
       "model_id": "1480b2286c114bb0b610f5b486981f69",
       "version_major": 2,
       "version_minor": 0
      },
      "text/plain": [
       "Downloading:   0%|          | 0.00/899k [00:00<?, ?B/s]"
      ]
     },
     "metadata": {},
     "output_type": "display_data"
    },
    {
     "data": {
      "application/vnd.jupyter.widget-view+json": {
       "model_id": "e26240f846934b3c87373aa00570380f",
       "version_major": 2,
       "version_minor": 0
      },
      "text/plain": [
       "Downloading:   0%|          | 0.00/456k [00:00<?, ?B/s]"
      ]
     },
     "metadata": {},
     "output_type": "display_data"
    }
   ],
   "source": [
    "summarizer = pipeline(\"summarization\")"
   ]
  },
  {
   "cell_type": "code",
   "execution_count": 3,
   "id": "2319aa8d",
   "metadata": {},
   "outputs": [],
   "source": [
    "text = \"The quick brown fox jumps over the lazy dog. The quick brown fox jumps over the lazy dog.\""
   ]
  },
  {
   "cell_type": "code",
   "execution_count": 9,
   "id": "5855df95",
   "metadata": {},
   "outputs": [],
   "source": [
    "text = \"Data is meaningless until its conversion into valuable information. Data Science involves mining large datasets containing structured and unstructured data and identifying hidden patterns to extract actionable insights. The importance of Data Science lies in its innumerable uses that range from daily activities like asking Siri or Alexa for recommendations to more complex applications like operating a self-driving car.The interdisciplinary field of Data Science encompasses Computer Science, Statistics, Inference, Machine Learning algorithms, Predictive Analysis, and new technologies\""
   ]
  },
  {
   "cell_type": "code",
   "execution_count": 10,
   "id": "29304c29",
   "metadata": {},
   "outputs": [
    {
     "data": {
      "text/plain": [
       "[{'summary_text': ' Data Science involves mining large datasets containing structured and unstructured data and identifying hidden patterns to extract actionable insights . The interdisciplinary field of Data Science encompasses Computer Science, Statistics, Inference, Machine Learning algorithms, Predictive Analysis, and new technologies .'}]"
      ]
     },
     "metadata": {},
     "output_type": "display_data"
    }
   ],
   "source": [
    "summary = summarizer(text, max_length=70, min_length=20)\n",
    "display(summary)"
   ]
  },
  {
   "cell_type": "code",
   "execution_count": 11,
   "id": "835528f5",
   "metadata": {},
   "outputs": [
    {
     "name": "stdout",
     "output_type": "stream",
     "text": [
      " Data Science involves mining large datasets containing structured and unstructured data and identifying hidden patterns to extract actionable insights . The interdisciplinary field of Data Science encompasses Computer Science, Statistics, Inference, Machine Learning algorithms, Predictive Analysis, and new technologies .\n"
     ]
    }
   ],
   "source": [
    "print(summary[0]['summary_text'])"
   ]
  },
  {
   "cell_type": "code",
   "execution_count": 14,
   "id": "81520425",
   "metadata": {},
   "outputs": [
    {
     "name": "stderr",
     "output_type": "stream",
     "text": [
      "sh: long_story_short.mpt: command not found\n"
     ]
    },
    {
     "data": {
      "text/plain": [
       "32512"
      ]
     },
     "execution_count": 14,
     "metadata": {},
     "output_type": "execute_result"
    }
   ],
   "source": [
    "s_text = str(summary[0]['summary_text'])\n",
    "language = 'en'\n",
    "aud = gTTS(text= s_text, lang= language, slow = False)\n",
    "aud.save(\"long_story_short.mp3\")\n",
    "os.system(\"long_story_short.mpt\")"
   ]
  },
  {
   "cell_type": "code",
   "execution_count": null,
   "id": "1409ecc1",
   "metadata": {},
   "outputs": [],
   "source": []
  },
  {
   "cell_type": "code",
   "execution_count": null,
   "id": "7e4aaa51",
   "metadata": {},
   "outputs": [],
   "source": []
  }
 ],
 "metadata": {
  "kernelspec": {
   "display_name": "Python 3 (ipykernel)",
   "language": "python",
   "name": "python3"
  },
  "language_info": {
   "codemirror_mode": {
    "name": "ipython",
    "version": 3
   },
   "file_extension": ".py",
   "mimetype": "text/x-python",
   "name": "python",
   "nbconvert_exporter": "python",
   "pygments_lexer": "ipython3",
   "version": "3.9.16"
  }
 },
 "nbformat": 4,
 "nbformat_minor": 5
}
